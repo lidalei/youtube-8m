{
 "cells": [
  {
   "cell_type": "code",
   "execution_count": 13,
   "metadata": {
    "collapsed": false
   },
   "outputs": [
    {
     "name": "stdout",
     "output_type": "stream",
     "text": [
      "The folder specified is /Users/Sophie/Downloads/ml-knn-python3-prior\n",
      "The folder specified is /Users/Sophie/Downloads/ml-knn-python3-prior\n",
      "Json files transformed to Python2 pickle files.\n"
     ]
    }
   ],
   "source": [
    "# Python2 code\n",
    "import json, pickle, argparse\n",
    "import numpy as np\n",
    "\n",
    "\n",
    "def load_prior_prob(folder=''):\n",
    "    with open(folder + '/sum_labels.json', 'r') as json_file:\n",
    "        sum_labels = json.load(json_file)['value']\n",
    "    \n",
    "    with open(folder + '/accum_num_videos.json', 'r') as json_file:\n",
    "        accum_num_videos = json.load(json_file)['value']\n",
    "    \n",
    "    with open(folder + '/labels_prior_prob.json', 'r') as json_file:\n",
    "        labels_prior_prob = json.load(json_file)['value']\n",
    "    \n",
    "    return (np.array(sum_labels, dtype=np.float32),\n",
    "            np.array(accum_num_videos, dtype=np.float32),\n",
    "            np.array(labels_prior_prob, dtype=np.float32))\n",
    "\n",
    "\n",
    "def store_prior_prob(sum_labels, accum_num_videos, labels_prior_prob, folder=''):\n",
    "    with open(folder + '/sum_labels.pickle', 'wb') as pickle_file:\n",
    "        pickle.dump(sum_labels, pickle_file)\n",
    "\n",
    "    with open(folder + '/accum_num_videos.pickle', 'wb') as pickle_file:\n",
    "        pickle.dump(accum_num_videos, pickle_file)\n",
    "\n",
    "    with open(folder + '/labels_prior_prob.pickle', 'wb') as pickle_file:\n",
    "        pickle.dump(labels_prior_prob, pickle_file)\n",
    "\n",
    "if __name__ == '__main__':\n",
    "#     parser = argparse.ArgumentParser()\n",
    "#     parser.add_argument('folder', type=str, help='The directory where python3 prior prob files lie.')\n",
    "    \n",
    "#     args = parser.parse_args()\n",
    "#     folder = args.folder\n",
    "    folder = '/Users/Sophie/Downloads/ml-knn-python3-prior'\n",
    "    print('The folder specified is {}'.format(folder))\n",
    "    \n",
    "    sum_labels, accum_num_videos, labels_prior_prob = load_prior_prob(folder=folder)\n",
    "    store_prior_prob(sum_labels, accum_num_videos, labels_prior_prob, folder=folder)\n",
    "    \n",
    "    print('Json files transformed to Python2 pickle files.')"
   ]
  },
  {
   "cell_type": "code",
   "execution_count": 15,
   "metadata": {
    "collapsed": false
   },
   "outputs": [
    {
     "name": "stdout",
     "output_type": "stream",
     "text": [
      "The folder specified is /Users/Sophie/Downloads/ml-knn-python3-prior\n",
      "Python3 pickle files transformed to json files.\n"
     ]
    }
   ],
   "source": [
    "# Python3 code\n",
    "import json, pickle, argparse\n",
    "\n",
    "def recover_prior_prob(folder=''):\n",
    "    with open(folder + '/sum_labels.pickle', 'rb') as pickle_file:\n",
    "        sum_labels = pickle.load(pickle_file)\n",
    "\n",
    "    with open(folder + '/accum_num_videos.pickle', 'rb') as pickle_file:\n",
    "        accum_num_videos = pickle.load(pickle_file)\n",
    "\n",
    "    with open(folder + '/labels_prior_prob.pickle', 'rb') as pickle_file:\n",
    "        labels_prior_prob = pickle.load(pickle_file)\n",
    "\n",
    "    return sum_labels.tolist(), accum_num_videos.tolist(), labels_prior_prob.tolist()\n",
    "\n",
    "def store_prior_prob(sum_labels, accum_num_videos, labels_prior_prob, folder=''):\n",
    "    with open(folder + '/sum_labels.json', 'w') as json_file:\n",
    "        json.dump({'value': sum_labels}, json_file)\n",
    "    \n",
    "    with open(folder + '/accum_num_videos.json', 'w') as json_file:\n",
    "        json.dump({'value': accum_num_videos}, json_file)\n",
    "    \n",
    "    with open(folder + '/labels_prior_prob.json', 'w') as json_file:\n",
    "        json.dump({'value': labels_prior_prob}, json_file)\n",
    "\n",
    "if __name__ == '__main__':\n",
    "#     parser = argparse.ArgumentParser()\n",
    "#     parser.add_argument('folder', type=str, help='The directory where python3 prior prob files lie.')\n",
    "    \n",
    "#     args = parser.parse_args()\n",
    "#     folder = args.folder\n",
    "    folder = '/Users/Sophie/Downloads/ml-knn-python3-prior'\n",
    "    print('The folder specified is {}'.format(folder))\n",
    "    \n",
    "    sum_labels, accum_num_videos, labels_prior_prob = recover_prior_prob(folder=folder)\n",
    "    store_prior_prob(sum_labels, accum_num_videos, labels_prior_prob, folder=folder)\n",
    "    \n",
    "    print('Python3 pickle files transformed to json files.')"
   ]
  },
  {
   "cell_type": "code",
   "execution_count": 46,
   "metadata": {
    "collapsed": false
   },
   "outputs": [
    {
     "data": {
      "text/plain": [
       "859519.0"
      ]
     },
     "execution_count": 46,
     "metadata": {},
     "output_type": "execute_result"
    }
   ],
   "source": [
    "sum_labels[0]"
   ]
  },
  {
   "cell_type": "code",
   "execution_count": 1,
   "metadata": {
    "collapsed": true
   },
   "outputs": [],
   "source": [
    "import json, pickle, argparse\n",
    "\n",
    "def recover_prior_prob(folder=''):\n",
    "    with open(folder + '/sum_labels.pickle', 'rb') as pickle_file:\n",
    "        sum_labels = pickle.load(pickle_file)\n",
    "\n",
    "    with open(folder + '/accum_num_videos.pickle', 'rb') as pickle_file:\n",
    "        accum_num_videos = pickle.load(pickle_file)\n",
    "\n",
    "    with open(folder + '/labels_prior_prob.pickle', 'rb') as pickle_file:\n",
    "        labels_prior_prob = pickle.load(pickle_file)\n",
    "\n",
    "    return sum_labels.tolist(), accum_num_videos.tolist(), labels_prior_prob.tolist()"
   ]
  },
  {
   "cell_type": "code",
   "execution_count": 2,
   "metadata": {
    "collapsed": true
   },
   "outputs": [],
   "source": [
    "folder = '.'\n",
    "sum_labels, accum_num_videos, labels_prior_prob = recover_prior_prob(folder=folder)\n",
    "labels_prior_prob = np.array(labels_prior_prob)"
   ]
  },
  {
   "cell_type": "code",
   "execution_count": 47,
   "metadata": {
    "collapsed": false
   },
   "outputs": [
    {
     "data": {
      "text/plain": [
       "(4906660.0,\n",
       " array([ 0.17517412,  0.13823208,  0.10577091,  0.10082376,  0.07569139,\n",
       "         0.06181312,  0.06045353,  0.06016311,  0.0444133 ,  0.04379516]))"
      ]
     },
     "execution_count": 47,
     "metadata": {},
     "output_type": "execute_result"
    }
   ],
   "source": [
    "accum_num_videos, labels_prior_prob[:10]"
   ]
  },
  {
   "cell_type": "code",
   "execution_count": 4,
   "metadata": {
    "collapsed": false
   },
   "outputs": [
    {
     "data": {
      "image/png": "[encoded data removed]",
      "text/plain": [
       "<matplotlib.figure.Figure at 0x10fcb9ed0>"
      ]
     },
     "metadata": {},
     "output_type": "display_data"
    }
   ],
   "source": [
    "import matplotlib.pylab as plt\n",
    "\n",
    "figure, (ax1, ax2) = plt.subplots(1, 2)\n",
    "ax1.semilogy(sum_labels, color='#1f77b4', marker='.', markersize=0.1, label='Number of instances')\n",
    "ax2.semilogy(labels_prior_prob, color='#ff7f0e', marker='.', markersize=0.1, label='Prior probability')\n",
    "ax1.legend(loc=1)\n",
    "ax2.legend(loc=1)\n",
    "\n",
    "ax1.set_xlabel('Labels')\n",
    "ax2.set_xlabel('Labels')\n",
    "\n",
    "ax1.tick_params('y', colors='#1f77b4')\n",
    "ax2.tick_params('y', colors='#ff7f0e')\n",
    "\n",
    "plt.show()"
   ]
  },
  {
   "cell_type": "code",
   "execution_count": 5,
   "metadata": {
    "collapsed": false
   },
   "outputs": [
    {
     "data": {
      "text/plain": [
       "(859519.0, 90.0, 3528.2849872773536)"
      ]
     },
     "execution_count": 5,
     "metadata": {},
     "output_type": "execute_result"
    }
   ],
   "source": [
    "import numpy as np\n",
    "\n",
    "max(sum_labels), min(sum_labels), np.mean(sum_labels)"
   ]
  },
  {
   "cell_type": "code",
   "execution_count": 6,
   "metadata": {
    "collapsed": false
   },
   "outputs": [
    {
     "data": {
      "text/plain": [
       "(0.17517411708831787, 1.8546217688708566e-05, 0.00071928445646548514)"
      ]
     },
     "execution_count": 6,
     "metadata": {},
     "output_type": "execute_result"
    }
   ],
   "source": [
    "max(labels_prior_prob), min(labels_prior_prob), np.mean(labels_prior_prob)"
   ]
  },
  {
   "cell_type": "code",
   "execution_count": 41,
   "metadata": {
    "collapsed": false
   },
   "outputs": [
    {
     "data": {
      "text/plain": [
       "28922.0"
      ]
     },
     "execution_count": 41,
     "metadata": {},
     "output_type": "execute_result"
    }
   ],
   "source": [
    "sum_labels[100]"
   ]
  },
  {
   "cell_type": "markdown",
   "metadata": {},
   "source": [
    "# Conditional probability"
   ]
  },
  {
   "cell_type": "code",
   "execution_count": 7,
   "metadata": {
    "collapsed": false
   },
   "outputs": [],
   "source": [
    "from os.path import join as path_join\n",
    "\n",
    "def restore_posterior_prob(k, folder=''):\n",
    "    with open(path_join(folder, 'count_{}.pickle'.format(k)), 'rb') as pickle_file:\n",
    "        try:\n",
    "            count = pickle.load(pickle_file)\n",
    "        except:\n",
    "            count = pickle.load(pickle_file, fix_imports=True, encoding='latin1')\n",
    "\n",
    "    with open(path_join(folder, 'counter_count_{}.pickle'.format(k)), 'rb') as pickle_file:\n",
    "        try:\n",
    "            counter_count = pickle.load(pickle_file)\n",
    "        except:\n",
    "            counter_count = pickle.load(pickle_file, fix_imports=True, encoding='latin1')\n",
    "\n",
    "    with open(path_join(folder, 'pos_prob_positive_{}.pickle'.format(k)), 'rb') as pickle_file:\n",
    "        try:\n",
    "            pos_prob_positive = pickle.load(pickle_file)\n",
    "        except:\n",
    "            pos_prob_positive = pickle.load(pickle_file, fix_imports=True, encoding='latin1')\n",
    "\n",
    "    with open(path_join(folder, 'pos_prob_negative_{}.pickle'.format(k)), 'rb') as pickle_file:\n",
    "        try:\n",
    "            pos_prob_negative = pickle.load(pickle_file)\n",
    "        except:\n",
    "            pos_prob_negative = pickle.load(pickle_file, fix_imports=True, encoding='latin1')\n",
    "\n",
    "    return count, counter_count, pos_prob_positive, pos_prob_negative"
   ]
  },
  {
   "cell_type": "code",
   "execution_count": 8,
   "metadata": {
    "collapsed": false
   },
   "outputs": [],
   "source": [
    "count, counter_count, pos_prob_positive, pos_prob_negative = restore_posterior_prob(8, folder=folder)"
   ]
  },
  {
   "cell_type": "code",
   "execution_count": 9,
   "metadata": {
    "collapsed": false
   },
   "outputs": [
    {
     "data": {
      "text/plain": [
       "((9, 4716), array([[  3.14870000e+04,   3.31090000e+04,   2.72410000e+04, ...,\n",
       "           6.80000000e+01,   3.90000000e+01,   7.30000000e+01],\n",
       "        [  2.80560000e+04,   2.39450000e+04,   2.78120000e+04, ...,\n",
       "           1.70000000e+01,   1.30000000e+01,   1.00000000e+01]], dtype=float32), array([[ 0.03663406,  0.04881566,  0.05249041, ...,  0.62727273,\n",
       "          0.37037036,  0.67889911],\n",
       "        [ 0.03264233,  0.03530473,  0.05359063, ...,  0.16363636,\n",
       "          0.12962963,  0.10091743]], dtype=float32))"
      ]
     },
     "execution_count": 9,
     "metadata": {},
     "output_type": "execute_result"
    }
   ],
   "source": [
    "count.shape, count[:2], pos_prob_positive[:2]"
   ]
  },
  {
   "cell_type": "code",
   "execution_count": 33,
   "metadata": {
    "collapsed": false
   },
   "outputs": [
    {
     "data": {
      "image/png": "[encoded data removed]",
      "text/plain": [
       "<matplotlib.figure.Figure at 0x1077c32d0>"
      ]
     },
     "metadata": {},
     "output_type": "display_data"
    }
   ],
   "source": [
    "plt.imshow(pos_prob_positive, cmap='hot')\n",
    "plt.show()"
   ]
  },
  {
   "cell_type": "code",
   "execution_count": 11,
   "metadata": {
    "collapsed": false
   },
   "outputs": [
    {
     "data": {
      "text/plain": [
       "array([ 1.        ,  1.        ,  0.99999994, ...,  0.99999994,\n",
       "        1.        ,  0.99999988], dtype=float32)"
      ]
     },
     "execution_count": 11,
     "metadata": {},
     "output_type": "execute_result"
    }
   ],
   "source": [
    "np.sum(pos_prob_positive, axis=0)"
   ]
  },
  {
   "cell_type": "code",
   "execution_count": 31,
   "metadata": {
    "collapsed": false
   },
   "outputs": [
    {
     "data": {
      "image/png": "[encoded data removed]",
      "text/plain": [
       "<matplotlib.figure.Figure at 0x1119e5cd0>"
      ]
     },
     "metadata": {},
     "output_type": "display_data"
    }
   ],
   "source": [
    "figure, ax = plt.subplots(1)\n",
    "\n",
    "ind = np.arange(50)    # the x locations for the groups\n",
    "width = 0.3       # the width of the bars: can also be len(x) sequence\n",
    "\n",
    "bar_list = []\n",
    "for i, e in enumerate(pos_prob_positive[:, :50]):\n",
    "    bottom = None if i == 0 else np.sum(pos_prob_positive[:i, :50], axis=0)\n",
    "    p = ax.bar(left=ind, height=e, width=width, bottom=bottom)\n",
    "    bar_list.append(p)\n",
    "\n",
    "ax.set_title('Likelihoods versus label under positive class')\n",
    "ax.set_xticks(ind[::10])\n",
    "ax.set_xticklabels(['{}'.format(i) for i in ind[::10]])\n",
    "\n",
    "plt.show()"
   ]
  },
  {
   "cell_type": "code",
   "execution_count": 48,
   "metadata": {
    "collapsed": false
   },
   "outputs": [],
   "source": [
    "positive_prob_numerator = np.multiply(labels_prior_prob, pos_prob_positive)\n",
    "negative_prob_numerator = np.multiply(1.0 - labels_prior_prob, pos_prob_negative)\n",
    "\n",
    "posterior_prob = np.true_divide(positive_prob_numerator, positive_prob_numerator + negative_prob_numerator)"
   ]
  },
  {
   "cell_type": "code",
   "execution_count": 50,
   "metadata": {
    "collapsed": false
   },
   "outputs": [
    {
     "data": {
      "image/png": "[encoded data removed]",
      "text/plain": [
       "<matplotlib.figure.Figure at 0x111c7a6d0>"
      ]
     },
     "metadata": {},
     "output_type": "display_data"
    }
   ],
   "source": [
    "figure, ax = plt.subplots(1)\n",
    "\n",
    "ind = np.arange(50)    # the x locations for the groups\n",
    "width = 0.3       # the width of the bars: can also be len(x) sequence\n",
    "\n",
    "bar_list = []\n",
    "for i, e in enumerate(posterior_prob[:, :50]):\n",
    "    bottom = None if i == 0 else np.sum(posterior_prob[:i, :50], axis=0)\n",
    "    p = ax.bar(left=ind, height=e, width=width, bottom=bottom)\n",
    "    bar_list.append(p)\n",
    "\n",
    "ax.set_title('Posterior probability to be positive class')\n",
    "ax.set_xticks(ind[::10])\n",
    "ax.set_xticklabels(['{}'.format(i) for i in ind[::10]])\n",
    "\n",
    "plt.show()"
   ]
  },
  {
   "cell_type": "code",
   "execution_count": 28,
   "metadata": {
    "collapsed": true
   },
   "outputs": [],
   "source": [
    "count_t, counter_count_t, pos_prob_positive_t, pos_prob_negative_t = np.transpose(count), np.transpose(counter_count), np.transpose(pos_prob_positive), np.transpose(pos_prob_negative)"
   ]
  },
  {
   "cell_type": "code",
   "execution_count": 30,
   "metadata": {
    "collapsed": false
   },
   "outputs": [
    {
     "data": {
      "text/plain": [
       "(4716, 9)"
      ]
     },
     "execution_count": 30,
     "metadata": {},
     "output_type": "execute_result"
    }
   ],
   "source": [
    "count_t.shape"
   ]
  },
  {
   "cell_type": "code",
   "execution_count": 27,
   "metadata": {
    "collapsed": false
   },
   "outputs": [
    {
     "ename": "KeyboardInterrupt",
     "evalue": "",
     "output_type": "error",
     "traceback": [
      "\u001b[0;31m---------------------------------------------------------------------------\u001b[0m",
      "\u001b[0;31mKeyboardInterrupt\u001b[0m                         Traceback (most recent call last)",
      "\u001b[0;32m<ipython-input-27-2b179940ecd6>\u001b[0m in \u001b[0;36m<module>\u001b[0;34m()\u001b[0m\n\u001b[1;32m      4\u001b[0m \u001b[0max_t\u001b[0m\u001b[0;34m.\u001b[0m\u001b[0mplot\u001b[0m\u001b[0;34m(\u001b[0m\u001b[0mcounter_count\u001b[0m\u001b[0;34m,\u001b[0m \u001b[0mlabel\u001b[0m\u001b[0;34m=\u001b[0m\u001b[0;34m'counter count'\u001b[0m\u001b[0;34m)\u001b[0m\u001b[0;34m\u001b[0m\u001b[0m\n\u001b[1;32m      5\u001b[0m \u001b[0max\u001b[0m\u001b[0;34m.\u001b[0m\u001b[0mlegend\u001b[0m\u001b[0;34m(\u001b[0m\u001b[0mloc\u001b[0m\u001b[0;34m=\u001b[0m\u001b[0;36m1\u001b[0m\u001b[0;34m)\u001b[0m\u001b[0;34m\u001b[0m\u001b[0m\n\u001b[0;32m----> 6\u001b[0;31m \u001b[0max_t\u001b[0m\u001b[0;34m.\u001b[0m\u001b[0mlegend\u001b[0m\u001b[0;34m(\u001b[0m\u001b[0mloc\u001b[0m\u001b[0;34m=\u001b[0m\u001b[0;36m2\u001b[0m\u001b[0;34m)\u001b[0m\u001b[0;34m\u001b[0m\u001b[0m\n\u001b[0m\u001b[1;32m      7\u001b[0m \u001b[0;34m\u001b[0m\u001b[0m\n\u001b[1;32m      8\u001b[0m \u001b[0mplt\u001b[0m\u001b[0;34m.\u001b[0m\u001b[0mshow\u001b[0m\u001b[0;34m(\u001b[0m\u001b[0;34m)\u001b[0m\u001b[0;34m\u001b[0m\u001b[0m\n",
      "\u001b[0;32m/Users/Sophie/anaconda/lib/python2.7/site-packages/matplotlib/axes/_axes.pyc\u001b[0m in \u001b[0;36mlegend\u001b[0;34m(self, *args, **kwargs)\u001b[0m\n\u001b[1;32m    562\u001b[0m             \u001b[0;32mraise\u001b[0m \u001b[0mTypeError\u001b[0m\u001b[0;34m(\u001b[0m\u001b[0;34m'Invalid arguments to legend.'\u001b[0m\u001b[0;34m)\u001b[0m\u001b[0;34m\u001b[0m\u001b[0m\n\u001b[1;32m    563\u001b[0m \u001b[0;34m\u001b[0m\u001b[0m\n\u001b[0;32m--> 564\u001b[0;31m         \u001b[0mself\u001b[0m\u001b[0;34m.\u001b[0m\u001b[0mlegend_\u001b[0m \u001b[0;34m=\u001b[0m \u001b[0mmlegend\u001b[0m\u001b[0;34m.\u001b[0m\u001b[0mLegend\u001b[0m\u001b[0;34m(\u001b[0m\u001b[0mself\u001b[0m\u001b[0;34m,\u001b[0m \u001b[0mhandles\u001b[0m\u001b[0;34m,\u001b[0m \u001b[0mlabels\u001b[0m\u001b[0;34m,\u001b[0m \u001b[0;34m**\u001b[0m\u001b[0mkwargs\u001b[0m\u001b[0;34m)\u001b[0m\u001b[0;34m\u001b[0m\u001b[0m\n\u001b[0m\u001b[1;32m    565\u001b[0m         \u001b[0mself\u001b[0m\u001b[0;34m.\u001b[0m\u001b[0mlegend_\u001b[0m\u001b[0;34m.\u001b[0m\u001b[0m_remove_method\u001b[0m \u001b[0;34m=\u001b[0m \u001b[0;32mlambda\u001b[0m \u001b[0mh\u001b[0m\u001b[0;34m:\u001b[0m \u001b[0msetattr\u001b[0m\u001b[0;34m(\u001b[0m\u001b[0mself\u001b[0m\u001b[0;34m,\u001b[0m \u001b[0;34m'legend_'\u001b[0m\u001b[0;34m,\u001b[0m \u001b[0mNone\u001b[0m\u001b[0;34m)\u001b[0m\u001b[0;34m\u001b[0m\u001b[0m\n\u001b[1;32m    566\u001b[0m         \u001b[0;32mreturn\u001b[0m \u001b[0mself\u001b[0m\u001b[0;34m.\u001b[0m\u001b[0mlegend_\u001b[0m\u001b[0;34m\u001b[0m\u001b[0m\n",
      "\u001b[0;32m/Users/Sophie/anaconda/lib/python2.7/site-packages/matplotlib/legend.pyc\u001b[0m in \u001b[0;36m__init__\u001b[0;34m(self, parent, handles, labels, loc, numpoints, markerscale, markerfirst, scatterpoints, scatteryoffsets, prop, fontsize, borderpad, labelspacing, handlelength, handleheight, handletextpad, borderaxespad, columnspacing, ncol, mode, fancybox, shadow, title, framealpha, edgecolor, facecolor, bbox_to_anchor, bbox_transform, frameon, handler_map)\u001b[0m\n\u001b[1;32m    384\u001b[0m \u001b[0;34m\u001b[0m\u001b[0m\n\u001b[1;32m    385\u001b[0m         \u001b[0;31m# init with null renderer\u001b[0m\u001b[0;34m\u001b[0m\u001b[0;34m\u001b[0m\u001b[0m\n\u001b[0;32m--> 386\u001b[0;31m         \u001b[0mself\u001b[0m\u001b[0;34m.\u001b[0m\u001b[0m_init_legend_box\u001b[0m\u001b[0;34m(\u001b[0m\u001b[0mhandles\u001b[0m\u001b[0;34m,\u001b[0m \u001b[0mlabels\u001b[0m\u001b[0;34m,\u001b[0m \u001b[0mmarkerfirst\u001b[0m\u001b[0;34m)\u001b[0m\u001b[0;34m\u001b[0m\u001b[0m\n\u001b[0m\u001b[1;32m    387\u001b[0m \u001b[0;34m\u001b[0m\u001b[0m\n\u001b[1;32m    388\u001b[0m         \u001b[0;32mif\u001b[0m \u001b[0mframealpha\u001b[0m \u001b[0;32mis\u001b[0m \u001b[0mNone\u001b[0m\u001b[0;34m:\u001b[0m\u001b[0;34m\u001b[0m\u001b[0m\n",
      "\u001b[0;32m/Users/Sophie/anaconda/lib/python2.7/site-packages/matplotlib/legend.pyc\u001b[0m in \u001b[0;36m_init_legend_box\u001b[0;34m(self, handles, labels, markerfirst)\u001b[0m\n\u001b[1;32m    640\u001b[0m                 textbox = TextArea(lab, textprops=label_prop,\n\u001b[1;32m    641\u001b[0m                                    \u001b[0mmultilinebaseline\u001b[0m\u001b[0;34m=\u001b[0m\u001b[0mTrue\u001b[0m\u001b[0;34m,\u001b[0m\u001b[0;34m\u001b[0m\u001b[0m\n\u001b[0;32m--> 642\u001b[0;31m                                    minimumdescent=True)\n\u001b[0m\u001b[1;32m    643\u001b[0m                 \u001b[0mtext_list\u001b[0m\u001b[0;34m.\u001b[0m\u001b[0mappend\u001b[0m\u001b[0;34m(\u001b[0m\u001b[0mtextbox\u001b[0m\u001b[0;34m.\u001b[0m\u001b[0m_text\u001b[0m\u001b[0;34m)\u001b[0m\u001b[0;34m\u001b[0m\u001b[0m\n\u001b[1;32m    644\u001b[0m \u001b[0;34m\u001b[0m\u001b[0m\n",
      "\u001b[0;32m/Users/Sophie/anaconda/lib/python2.7/site-packages/matplotlib/offsetbox.pyc\u001b[0m in \u001b[0;36m__init__\u001b[0;34m(self, s, textprops, multilinebaseline, minimumdescent)\u001b[0m\n\u001b[1;32m    745\u001b[0m \u001b[0;34m\u001b[0m\u001b[0m\n\u001b[1;32m    746\u001b[0m         \u001b[0mself\u001b[0m\u001b[0;34m.\u001b[0m\u001b[0moffset_transform\u001b[0m \u001b[0;34m=\u001b[0m \u001b[0mmtransforms\u001b[0m\u001b[0;34m.\u001b[0m\u001b[0mAffine2D\u001b[0m\u001b[0;34m(\u001b[0m\u001b[0;34m)\u001b[0m\u001b[0;34m\u001b[0m\u001b[0m\n\u001b[0;32m--> 747\u001b[0;31m         \u001b[0mself\u001b[0m\u001b[0;34m.\u001b[0m\u001b[0moffset_transform\u001b[0m\u001b[0;34m.\u001b[0m\u001b[0mclear\u001b[0m\u001b[0;34m(\u001b[0m\u001b[0;34m)\u001b[0m\u001b[0;34m\u001b[0m\u001b[0m\n\u001b[0m\u001b[1;32m    748\u001b[0m         \u001b[0mself\u001b[0m\u001b[0;34m.\u001b[0m\u001b[0moffset_transform\u001b[0m\u001b[0;34m.\u001b[0m\u001b[0mtranslate\u001b[0m\u001b[0;34m(\u001b[0m\u001b[0;36m0\u001b[0m\u001b[0;34m,\u001b[0m \u001b[0;36m0\u001b[0m\u001b[0;34m)\u001b[0m\u001b[0;34m\u001b[0m\u001b[0m\n\u001b[1;32m    749\u001b[0m         \u001b[0mself\u001b[0m\u001b[0;34m.\u001b[0m\u001b[0m_baseline_transform\u001b[0m \u001b[0;34m=\u001b[0m \u001b[0mmtransforms\u001b[0m\u001b[0;34m.\u001b[0m\u001b[0mAffine2D\u001b[0m\u001b[0;34m(\u001b[0m\u001b[0;34m)\u001b[0m\u001b[0;34m\u001b[0m\u001b[0m\n",
      "\u001b[0;32m/Users/Sophie/anaconda/lib/python2.7/site-packages/matplotlib/transforms.pyc\u001b[0m in \u001b[0;36mclear\u001b[0;34m(self)\u001b[0m\n\u001b[1;32m   1904\u001b[0m         \u001b[0mReset\u001b[0m \u001b[0mthe\u001b[0m \u001b[0munderlying\u001b[0m \u001b[0mmatrix\u001b[0m \u001b[0mto\u001b[0m \u001b[0mthe\u001b[0m \u001b[0midentity\u001b[0m \u001b[0mtransform\u001b[0m\u001b[0;34m.\u001b[0m\u001b[0;34m\u001b[0m\u001b[0m\n\u001b[1;32m   1905\u001b[0m         \"\"\"\n\u001b[0;32m-> 1906\u001b[0;31m         \u001b[0mself\u001b[0m\u001b[0;34m.\u001b[0m\u001b[0m_mtx\u001b[0m \u001b[0;34m=\u001b[0m \u001b[0mnp\u001b[0m\u001b[0;34m.\u001b[0m\u001b[0midentity\u001b[0m\u001b[0;34m(\u001b[0m\u001b[0;36m3\u001b[0m\u001b[0;34m)\u001b[0m\u001b[0;34m\u001b[0m\u001b[0m\n\u001b[0m\u001b[1;32m   1907\u001b[0m         \u001b[0mself\u001b[0m\u001b[0;34m.\u001b[0m\u001b[0minvalidate\u001b[0m\u001b[0;34m(\u001b[0m\u001b[0;34m)\u001b[0m\u001b[0;34m\u001b[0m\u001b[0m\n\u001b[1;32m   1908\u001b[0m         \u001b[0;32mreturn\u001b[0m \u001b[0mself\u001b[0m\u001b[0;34m\u001b[0m\u001b[0m\n",
      "\u001b[0;32m/Users/Sophie/anaconda/lib/python2.7/site-packages/numpy/core/numeric.pyc\u001b[0m in \u001b[0;36midentity\u001b[0;34m(n, dtype)\u001b[0m\n\u001b[1;32m   2417\u001b[0m     \"\"\"\n\u001b[1;32m   2418\u001b[0m     \u001b[0;32mfrom\u001b[0m \u001b[0mnumpy\u001b[0m \u001b[0;32mimport\u001b[0m \u001b[0meye\u001b[0m\u001b[0;34m\u001b[0m\u001b[0m\n\u001b[0;32m-> 2419\u001b[0;31m     \u001b[0;32mreturn\u001b[0m \u001b[0meye\u001b[0m\u001b[0;34m(\u001b[0m\u001b[0mn\u001b[0m\u001b[0;34m,\u001b[0m \u001b[0mdtype\u001b[0m\u001b[0;34m=\u001b[0m\u001b[0mdtype\u001b[0m\u001b[0;34m)\u001b[0m\u001b[0;34m\u001b[0m\u001b[0m\n\u001b[0m\u001b[1;32m   2420\u001b[0m \u001b[0;34m\u001b[0m\u001b[0m\n\u001b[1;32m   2421\u001b[0m \u001b[0;34m\u001b[0m\u001b[0m\n",
      "\u001b[0;32m/Users/Sophie/anaconda/lib/python2.7/site-packages/numpy/lib/twodim_base.pyc\u001b[0m in \u001b[0;36meye\u001b[0;34m(N, M, k, dtype)\u001b[0m\n\u001b[1;32m    185\u001b[0m     \u001b[0;32melse\u001b[0m\u001b[0;34m:\u001b[0m\u001b[0;34m\u001b[0m\u001b[0m\n\u001b[1;32m    186\u001b[0m         \u001b[0mi\u001b[0m \u001b[0;34m=\u001b[0m \u001b[0;34m(\u001b[0m\u001b[0;34m-\u001b[0m\u001b[0mk\u001b[0m\u001b[0;34m)\u001b[0m \u001b[0;34m*\u001b[0m \u001b[0mM\u001b[0m\u001b[0;34m\u001b[0m\u001b[0m\n\u001b[0;32m--> 187\u001b[0;31m     \u001b[0mm\u001b[0m\u001b[0;34m[\u001b[0m\u001b[0;34m:\u001b[0m\u001b[0mM\u001b[0m\u001b[0;34m-\u001b[0m\u001b[0mk\u001b[0m\u001b[0;34m]\u001b[0m\u001b[0;34m.\u001b[0m\u001b[0mflat\u001b[0m\u001b[0;34m[\u001b[0m\u001b[0mi\u001b[0m\u001b[0;34m:\u001b[0m\u001b[0;34m:\u001b[0m\u001b[0mM\u001b[0m\u001b[0;34m+\u001b[0m\u001b[0;36m1\u001b[0m\u001b[0;34m]\u001b[0m \u001b[0;34m=\u001b[0m \u001b[0;36m1\u001b[0m\u001b[0;34m\u001b[0m\u001b[0m\n\u001b[0m\u001b[1;32m    188\u001b[0m     \u001b[0;32mreturn\u001b[0m \u001b[0mm\u001b[0m\u001b[0;34m\u001b[0m\u001b[0m\n\u001b[1;32m    189\u001b[0m \u001b[0;34m\u001b[0m\u001b[0m\n",
      "\u001b[0;31mKeyboardInterrupt\u001b[0m: "
     ]
    }
   ],
   "source": [
    "figure, ax = plt.subplots(1)\n",
    "ax.semilogy(count, label='count')\n",
    "ax_t = ax.twinx()\n",
    "ax_t.semilogy(counter_count, label='counter count')\n",
    "ax.legend(loc=1)\n",
    "ax_t.legend(loc=2)\n",
    "\n",
    "plt.show()\n",
    "\n",
    "count\n"
   ]
  },
  {
   "cell_type": "code",
   "execution_count": null,
   "metadata": {
    "collapsed": true
   },
   "outputs": [],
   "source": []
  }
 ],
 "metadata": {
  "kernelspec": {
   "display_name": "Python 2",
   "language": "python",
   "name": "python2"
  },
  "language_info": {
   "codemirror_mode": {
    "name": "ipython",
    "version": 2
   },
   "file_extension": ".py",
   "mimetype": "text/x-python",
   "name": "python",
   "nbconvert_exporter": "python",
   "pygments_lexer": "ipython2",
   "version": "2.7.13"
  }
 },
 "nbformat": 4,
 "nbformat_minor": 2
}
