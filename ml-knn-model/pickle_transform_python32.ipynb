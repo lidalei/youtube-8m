{
 "cells": [
  {
   "cell_type": "code",
   "execution_count": 13,
   "metadata": {
    "collapsed": false
   },
   "outputs": [
    {
     "name": "stdout",
     "output_type": "stream",
     "text": [
      "The folder specified is /Users/Sophie/Downloads/ml-knn-python3-prior\n",
      "The folder specified is /Users/Sophie/Downloads/ml-knn-python3-prior\n",
      "Json files transformed to Python2 pickle files.\n"
     ]
    }
   ],
   "source": [
    "# Python2 code\n",
    "import json, pickle, argparse\n",
    "import numpy as np\n",
    "\n",
    "\n",
    "def load_prior_prob(folder=''):\n",
    "    with open(folder + '/sum_labels.json', 'r') as json_file:\n",
    "        sum_labels = json.load(json_file)['value']\n",
    "    \n",
    "    with open(folder + '/accum_num_videos.json', 'r') as json_file:\n",
    "        accum_num_videos = json.load(json_file)['value']\n",
    "    \n",
    "    with open(folder + '/labels_prior_prob.json', 'r') as json_file:\n",
    "        labels_prior_prob = json.load(json_file)['value']\n",
    "    \n",
    "    return (np.array(sum_labels, dtype=np.float32),\n",
    "            np.array(accum_num_videos, dtype=np.float32),\n",
    "            np.array(labels_prior_prob, dtype=np.float32))\n",
    "\n",
    "\n",
    "def store_prior_prob(sum_labels, accum_num_videos, labels_prior_prob, folder=''):\n",
    "    with open(folder + '/sum_labels.pickle', 'wb') as pickle_file:\n",
    "        pickle.dump(sum_labels, pickle_file)\n",
    "\n",
    "    with open(folder + '/accum_num_videos.pickle', 'wb') as pickle_file:\n",
    "        pickle.dump(accum_num_videos, pickle_file)\n",
    "\n",
    "    with open(folder + '/labels_prior_prob.pickle', 'wb') as pickle_file:\n",
    "        pickle.dump(labels_prior_prob, pickle_file)\n",
    "\n",
    "if __name__ == '__main__':\n",
    "#     parser = argparse.ArgumentParser()\n",
    "#     parser.add_argument('folder', type=str, help='The directory where python3 prior prob files lie.')\n",
    "    \n",
    "#     args = parser.parse_args()\n",
    "#     folder = args.folder\n",
    "    folder = '/Users/Sophie/Downloads/ml-knn-python3-prior'\n",
    "    print('The folder specified is {}'.format(folder))\n",
    "    \n",
    "    sum_labels, accum_num_videos, labels_prior_prob = load_prior_prob(folder=folder)\n",
    "    store_prior_prob(sum_labels, accum_num_videos, labels_prior_prob, folder=folder)\n",
    "    \n",
    "    print('Json files transformed to Python2 pickle files.')"
   ]
  },
  {
   "cell_type": "code",
   "execution_count": 15,
   "metadata": {
    "collapsed": false
   },
   "outputs": [
    {
     "name": "stdout",
     "output_type": "stream",
     "text": [
      "The folder specified is /Users/Sophie/Downloads/ml-knn-python3-prior\n",
      "Python3 pickle files transformed to json files.\n"
     ]
    }
   ],
   "source": [
    "# Python3 code\n",
    "import json, pickle, argparse\n",
    "\n",
    "def recover_prior_prob(folder=''):\n",
    "    with open(folder + '/sum_labels.pickle', 'rb') as pickle_file:\n",
    "        sum_labels = pickle.load(pickle_file)\n",
    "\n",
    "    with open(folder + '/accum_num_videos.pickle', 'rb') as pickle_file:\n",
    "        accum_num_videos = pickle.load(pickle_file)\n",
    "\n",
    "    with open(folder + '/labels_prior_prob.pickle', 'rb') as pickle_file:\n",
    "        labels_prior_prob = pickle.load(pickle_file)\n",
    "\n",
    "    return sum_labels.tolist(), accum_num_videos.tolist(), labels_prior_prob.tolist()\n",
    "\n",
    "def store_prior_prob(sum_labels, accum_num_videos, labels_prior_prob, folder=''):\n",
    "    with open(folder + '/sum_labels.json', 'w') as json_file:\n",
    "        json.dump({'value': sum_labels}, json_file)\n",
    "    \n",
    "    with open(folder + '/accum_num_videos.json', 'w') as json_file:\n",
    "        json.dump({'value': accum_num_videos}, json_file)\n",
    "    \n",
    "    with open(folder + '/labels_prior_prob.json', 'w') as json_file:\n",
    "        json.dump({'value': labels_prior_prob}, json_file)\n",
    "\n",
    "if __name__ == '__main__':\n",
    "#     parser = argparse.ArgumentParser()\n",
    "#     parser.add_argument('folder', type=str, help='The directory where python3 prior prob files lie.')\n",
    "    \n",
    "#     args = parser.parse_args()\n",
    "#     folder = args.folder\n",
    "    folder = '/Users/Sophie/Downloads/ml-knn-python3-prior'\n",
    "    print('The folder specified is {}'.format(folder))\n",
    "    \n",
    "    sum_labels, accum_num_videos, labels_prior_prob = recover_prior_prob(folder=folder)\n",
    "    store_prior_prob(sum_labels, accum_num_videos, labels_prior_prob, folder=folder)\n",
    "    \n",
    "    print('Python3 pickle files transformed to json files.')"
   ]
  },
  {
   "cell_type": "code",
   "execution_count": 16,
   "metadata": {
    "collapsed": false
   },
   "outputs": [
    {
     "data": {
      "text/plain": [
       "array([  8.59519000e+05,   6.78257000e+05,   5.18981000e+05, ...,\n",
       "         1.01000000e+02,   9.90000000e+01,   1.00000000e+02], dtype=float32)"
      ]
     },
     "execution_count": 16,
     "metadata": {},
     "output_type": "execute_result"
    }
   ],
   "source": [
    "sum_labels"
   ]
  },
  {
   "cell_type": "code",
   "execution_count": null,
   "metadata": {
    "collapsed": true
   },
   "outputs": [],
   "source": []
  }
 ],
 "metadata": {
  "kernelspec": {
   "display_name": "Python 2",
   "language": "python",
   "name": "python2"
  },
  "language_info": {
   "codemirror_mode": {
    "name": "ipython",
    "version": 2
   },
   "file_extension": ".py",
   "mimetype": "text/x-python",
   "name": "python",
   "nbconvert_exporter": "python",
   "pygments_lexer": "ipython2",
   "version": "2.7.13"
  }
 },
 "nbformat": 4,
 "nbformat_minor": 2
}
